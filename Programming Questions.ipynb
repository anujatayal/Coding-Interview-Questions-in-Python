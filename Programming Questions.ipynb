{
 "cells": [
  {
   "cell_type": "code",
   "execution_count": 2,
   "metadata": {},
   "outputs": [],
   "source": [
    "import numpy as np"
   ]
  },
  {
   "cell_type": "code",
   "execution_count": 16,
   "metadata": {},
   "outputs": [
    {
     "data": {
      "text/plain": [
       "False"
      ]
     },
     "execution_count": 16,
     "metadata": {},
     "output_type": "execute_result"
    }
   ],
   "source": [
    "#is there a subset whose sum=sums \n",
    "arr=[1,5,5,11,6,7]\n",
    "sums=15\n",
    "def isSubsetSum(arr,n,sums):\n",
    "    if sums == 0:\n",
    "        return True\n",
    "    if n==0 and sum!=0:\n",
    "        return False\n",
    "    if arr[n-1]>sums:\n",
    "        return isSubsetSum(arr,n-1,sums)\n",
    "    return isSubsetSum(arr,n-1,sums) or isSubsetSum(arr,n-1,sums-arr[n-1])\n",
    "isSubsetSum(arr,len(arr),sums)"
   ]
  },
  {
   "cell_type": "code",
   "execution_count": 21,
   "metadata": {},
   "outputs": [
    {
     "data": {
      "text/plain": [
       "89"
      ]
     },
     "execution_count": 21,
     "metadata": {},
     "output_type": "execute_result"
    }
   ],
   "source": [
    "#fibonaci dp\n",
    "lookup=[None]*101\n",
    "n=11\n",
    "def fib(n,lookup):\n",
    "    if n==0 or n==1:\n",
    "        lookup[n]=n\n",
    "    elif lookup[n]==None:\n",
    "        lookup[n]=fib(n-1,lookup)+fib(n-2,lookup)\n",
    "    return lookup[n]\n",
    "fib(n,lookup)\n",
    "\n",
    "   "
   ]
  },
  {
   "cell_type": "code",
   "execution_count": 28,
   "metadata": {},
   "outputs": [
    {
     "data": {
      "text/plain": [
       "4"
      ]
     },
     "execution_count": 28,
     "metadata": {},
     "output_type": "execute_result"
    }
   ],
   "source": [
    "#lis recursive\n",
    "#arr=[10,22,9,33,21,50,41,60,80]\n",
    "#arr=[3,10,2,1,20]\n",
    "#arr=[3,2]\n",
    "arr=[50, 3, 10, 7, 40, 80]\n",
    "n=len(arr)\n",
    "def lis(arr,n):\n",
    "    if n==1:\n",
    "        return 1\n",
    "    elif arr[n-1]<arr[n-2]:\n",
    "        return lis(arr,n-1)\n",
    "    else:\n",
    "        return max(lis(arr,n-1)+1,lis(arr,n-1))\n",
    "lis(arr,n)"
   ]
  },
  {
   "cell_type": "code",
   "execution_count": 31,
   "metadata": {},
   "outputs": [],
   "source": [
    "#lis dp\n",
    "def lis1(arr):\n",
    "    n=len(arr)\n",
    "    dp=[1]*n\n",
    "    for i in range(1,n):\n",
    "        for j in range(0,i):\n",
    "            if arr[i]>arr[j] and dp[i]<dp[j]+1:\n",
    "                dp[i]=dp[j]+1\n",
    "    return max(dp)                       "
   ]
  },
  {
   "cell_type": "code",
   "execution_count": 35,
   "metadata": {},
   "outputs": [
    {
     "data": {
      "text/plain": [
       "6"
      ]
     },
     "execution_count": 35,
     "metadata": {},
     "output_type": "execute_result"
    }
   ],
   "source": [
    "arr=[10,22,9,33,21,50,41,60,80]\n",
    "\n",
    "lis1(arr)"
   ]
  },
  {
   "cell_type": "code",
   "execution_count": 103,
   "metadata": {},
   "outputs": [
    {
     "data": {
      "text/plain": [
       "4"
      ]
     },
     "execution_count": 103,
     "metadata": {},
     "output_type": "execute_result"
    }
   ],
   "source": [
    "#recursive longest common subsequence\n",
    "X=\"AGGTAB\"\n",
    "Y=\"GXTXAYB\"\n",
    "m=len(X)\n",
    "n=len(Y)\n",
    "def lcs(X,Y,m,n):\n",
    "    if m==0 or n==0:\n",
    "        return 0\n",
    "    elif X[m-1]==Y[n-1]:\n",
    "        return 1+lcs(X,Y,m-1,n-1)\n",
    "    else:\n",
    "        return max(lcs(X,Y,m-1,n),lcs(X,Y,m,n-1))\n",
    "lcs(X,Y,m,n)\n",
    "    "
   ]
  },
  {
   "cell_type": "code",
   "execution_count": 57,
   "metadata": {},
   "outputs": [
    {
     "name": "stdout",
     "output_type": "stream",
     "text": [
      "[[0. 0. 0. 0. 0. 0. 0. 0.]\n",
      " [0. 1. 1. 1. 1. 1. 1. 1.]\n",
      " [0. 1. 1. 1. 1. 2. 2. 2.]\n",
      " [0. 1. 1. 1. 1. 2. 2. 2.]\n",
      " [0. 1. 1. 1. 1. 2. 2. 2.]\n",
      " [0. 1. 1. 2. 2. 2. 2. 2.]\n",
      " [0. 1. 1. 2. 2. 3. 3. 3.]\n",
      " [0. 1. 1. 2. 2. 3. 3. 4.]]\n"
     ]
    },
    {
     "data": {
      "text/plain": [
       "4.0"
      ]
     },
     "execution_count": 57,
     "metadata": {},
     "output_type": "execute_result"
    }
   ],
   "source": [
    "#memoisation lcs\n",
    "def lcs1(X,Y):\n",
    "    m=len(X)\n",
    "    n=len(Y)\n",
    "    dp=np.zeros([m+1,n+1])\n",
    "    for i in range(1,m+1):\n",
    "        for j in range(1,n+1):\n",
    "            if i==0 or j==0:\n",
    "                dp[i][j]=0\n",
    "            elif X[i-1]==Y[j-1]:\n",
    "                dp[i][j]=1+dp[i-1][j-1]\n",
    "            else:\n",
    "                dp[i][j]=max(dp[i-1][j],dp[i][j-1])\n",
    "    print(dp)\n",
    "    return np.amax(dp)\n",
    "\n",
    "X=\"GAGGTAB\"\n",
    "Y=\"GXTXAYB\"\n",
    "lcs1(X,Y)            "
   ]
  },
  {
   "cell_type": "code",
   "execution_count": 63,
   "metadata": {},
   "outputs": [
    {
     "data": {
      "text/plain": [
       "5"
      ]
     },
     "execution_count": 63,
     "metadata": {},
     "output_type": "execute_result"
    }
   ],
   "source": [
    "#coin change problem\n",
    "#in how many ways can we make the change\n",
    "coins=[2,5,3,6]\n",
    "sum_c=10\n",
    "n=len(coins)\n",
    "def coin_change(coins,sum_c,n):\n",
    "    if sum_c==0:\n",
    "        return 1\n",
    "    if n==0:\n",
    "        return 0\n",
    "    if coins[n-1]>sum_c:\n",
    "        return coin_change(coins,sum_c,n-1)\n",
    "    else:\n",
    "        return coin_change(coins,sum_c,n-1)+coin_change(coins,sum_c-coins[n-1],n)\n",
    "coin_change(coins,sum_c,n)"
   ]
  },
  {
   "cell_type": "code",
   "execution_count": 78,
   "metadata": {},
   "outputs": [
    {
     "data": {
      "text/plain": [
       "2"
      ]
     },
     "execution_count": 78,
     "metadata": {},
     "output_type": "execute_result"
    }
   ],
   "source": [
    "#coin change problem\n",
    "#minimum no of coin changes required to get required sum \n",
    "coins=[1,5,6,8]\n",
    "sum_c=11\n",
    "n=len(coins)\n",
    "def coin_change(coins,sum_c,n):\n",
    "    if sum_c==0:\n",
    "        return 0\n",
    "    if n<=0:\n",
    "        return 1000\n",
    "    if coins[n-1]>sum_c:\n",
    "        return coin_change(coins,sum_c,n-1)\n",
    "    else:\n",
    "        return min(coin_change(coins,sum_c,n-1),1+coin_change(coins,sum_c-coins[n-1],n))\n",
    "coin_change(coins,sum_c,n)"
   ]
  },
  {
   "cell_type": "code",
   "execution_count": 104,
   "metadata": {},
   "outputs": [
    {
     "name": "stdout",
     "output_type": "stream",
     "text": [
      "[[0. 0. 0. 0. 0. 0. 0. 0. 0. 0. 0. 0.]\n",
      " [0. 0. 0. 0. 0. 0. 0. 0. 0. 0. 0. 0.]\n",
      " [0. 0. 0. 0. 0. 0. 0. 0. 0. 0. 0. 0.]\n",
      " [0. 0. 0. 0. 0. 0. 0. 0. 0. 0. 0. 0.]] 0.0\n"
     ]
    }
   ],
   "source": [
    "#coin change problem\n",
    "#minimum no of coin changes required to get required sum \n",
    "coins=[1,5,6,8]\n",
    "sum_c=11\n",
    "n=len(coins)\n",
    "def coin_change_dp(coins,sum_c):\n",
    "    dp=np.zeros([len(coins),sum_c+1])\n",
    "    for i in range(len(coins)):\n",
    "        for j in range(sum_c+1):\n",
    "            if j>=coins[i]:\n",
    "                dp[i][j]=min(dp[i-1][j],dp[i][j-coins[i]]+1)\n",
    "            else:\n",
    "                dp[i][j]=dp[i-1][j]\n",
    "    print(dp,np.amin(dp))\n",
    "coin_change_dp(coins,sum_c)"
   ]
  },
  {
   "cell_type": "code",
   "execution_count": 96,
   "metadata": {},
   "outputs": [
    {
     "data": {
      "text/plain": [
       "True"
      ]
     },
     "execution_count": 96,
     "metadata": {},
     "output_type": "execute_result"
    }
   ],
   "source": [
    "num=64\n",
    "def isPower(num):\n",
    "    return (num &(num-1)==0)\n",
    "isPower(num)"
   ]
  },
  {
   "cell_type": "code",
   "execution_count": 108,
   "metadata": {},
   "outputs": [
    {
     "data": {
      "text/plain": [
       "36"
      ]
     },
     "execution_count": 108,
     "metadata": {},
     "output_type": "execute_result"
    }
   ],
   "source": [
    "#max product of rod cuts\n",
    "def rope_cut(n):\n",
    "    if n==1:\n",
    "        return 1\n",
    "    max_val=0\n",
    "    for i in range(1,n+1):\n",
    "        value=max(i*(n-i),i*rope_cut(n-i))\n",
    "        max_val=max(value,max_val)\n",
    "    return max_val\n",
    "rope_cut(10)"
   ]
  },
  {
   "cell_type": "code",
   "execution_count": 117,
   "metadata": {},
   "outputs": [
    {
     "data": {
      "text/plain": [
       "array([  0.,   9.,  16.,  21.,  24.,  25., 144., 147., 128.,  81.,   0.])"
      ]
     },
     "execution_count": 117,
     "metadata": {},
     "output_type": "execute_result"
    }
   ],
   "source": [
    "def rope_cut_dp(n):\n",
    "    a=np.zeros(n+1)\n",
    "    max_val=0\n",
    "    for i in range(1,n+1):\n",
    "        a[i]=max(i*(n-i),i*a[n-i])\n",
    "    return a    \n",
    "rope_cut_dp(10)"
   ]
  },
  {
   "cell_type": "code",
   "execution_count": 3,
   "metadata": {},
   "outputs": [
    {
     "ename": "TypeError",
     "evalue": "can only concatenate list (not \"int\") to list",
     "output_type": "error",
     "traceback": [
      "\u001b[0;31m---------------------------------------------------------------------------\u001b[0m",
      "\u001b[0;31mTypeError\u001b[0m                                 Traceback (most recent call last)",
      "\u001b[0;32m<ipython-input-3-433b053781b1>\u001b[0m in \u001b[0;36m<module>\u001b[0;34m\u001b[0m\n\u001b[1;32m     12\u001b[0m         \u001b[0mprint\u001b[0m\u001b[0;34m(\u001b[0m\u001b[0mmax_val\u001b[0m\u001b[0;34m,\u001b[0m\u001b[0mi\u001b[0m\u001b[0;34m)\u001b[0m\u001b[0;34m\u001b[0m\u001b[0m\n\u001b[1;32m     13\u001b[0m     \u001b[0;32mreturn\u001b[0m \u001b[0mmax_val\u001b[0m\u001b[0;34m\u001b[0m\u001b[0m\n\u001b[0;32m---> 14\u001b[0;31m \u001b[0mrope_max_cost\u001b[0m\u001b[0;34m(\u001b[0m\u001b[0;36m8\u001b[0m\u001b[0;34m,\u001b[0m\u001b[0mcost\u001b[0m\u001b[0;34m)\u001b[0m\u001b[0;34m\u001b[0m\u001b[0m\n\u001b[0m",
      "\u001b[0;32m<ipython-input-3-433b053781b1>\u001b[0m in \u001b[0;36mrope_max_cost\u001b[0;34m(n, cost)\u001b[0m\n\u001b[1;32m      8\u001b[0m     \u001b[0mmax_val\u001b[0m\u001b[0;34m=\u001b[0m\u001b[0;36m0\u001b[0m\u001b[0;34m\u001b[0m\u001b[0m\n\u001b[1;32m      9\u001b[0m     \u001b[0;32mfor\u001b[0m \u001b[0mi\u001b[0m \u001b[0;32min\u001b[0m \u001b[0mrange\u001b[0m\u001b[0;34m(\u001b[0m\u001b[0;36m1\u001b[0m\u001b[0;34m,\u001b[0m\u001b[0mn\u001b[0m\u001b[0;34m+\u001b[0m\u001b[0;36m1\u001b[0m\u001b[0;34m)\u001b[0m\u001b[0;34m:\u001b[0m\u001b[0;34m\u001b[0m\u001b[0m\n\u001b[0;32m---> 10\u001b[0;31m         \u001b[0mvalue\u001b[0m\u001b[0;34m=\u001b[0m\u001b[0mmax\u001b[0m\u001b[0;34m(\u001b[0m\u001b[0mcost\u001b[0m\u001b[0;34m[\u001b[0m\u001b[0mi\u001b[0m\u001b[0;34m-\u001b[0m\u001b[0;36m1\u001b[0m\u001b[0;34m]\u001b[0m\u001b[0;34m+\u001b[0m\u001b[0mcost\u001b[0m\u001b[0;34m[\u001b[0m\u001b[0mn\u001b[0m\u001b[0;34m-\u001b[0m\u001b[0mi\u001b[0m\u001b[0;34m-\u001b[0m\u001b[0;36m1\u001b[0m\u001b[0;34m]\u001b[0m\u001b[0;34m,\u001b[0m\u001b[0mcost\u001b[0m\u001b[0;34m[\u001b[0m\u001b[0mi\u001b[0m\u001b[0;34m-\u001b[0m\u001b[0;36m1\u001b[0m\u001b[0;34m]\u001b[0m\u001b[0;34m+\u001b[0m\u001b[0mrope_max_cost\u001b[0m\u001b[0;34m(\u001b[0m\u001b[0;34m[\u001b[0m\u001b[0mn\u001b[0m\u001b[0;34m-\u001b[0m\u001b[0mi\u001b[0m\u001b[0;34m-\u001b[0m\u001b[0;36m1\u001b[0m\u001b[0;34m]\u001b[0m\u001b[0;34m,\u001b[0m\u001b[0mcost\u001b[0m\u001b[0;34m)\u001b[0m\u001b[0;34m)\u001b[0m\u001b[0;34m\u001b[0m\u001b[0m\n\u001b[0m\u001b[1;32m     11\u001b[0m         \u001b[0mmax_val\u001b[0m\u001b[0;34m=\u001b[0m\u001b[0mmax\u001b[0m\u001b[0;34m(\u001b[0m\u001b[0mvalue\u001b[0m\u001b[0;34m,\u001b[0m\u001b[0mmax_val\u001b[0m\u001b[0;34m)\u001b[0m\u001b[0;34m\u001b[0m\u001b[0m\n\u001b[1;32m     12\u001b[0m         \u001b[0mprint\u001b[0m\u001b[0;34m(\u001b[0m\u001b[0mmax_val\u001b[0m\u001b[0;34m,\u001b[0m\u001b[0mi\u001b[0m\u001b[0;34m)\u001b[0m\u001b[0;34m\u001b[0m\u001b[0m\n",
      "\u001b[0;32m<ipython-input-3-433b053781b1>\u001b[0m in \u001b[0;36mrope_max_cost\u001b[0;34m(n, cost)\u001b[0m\n\u001b[1;32m      7\u001b[0m         \u001b[0;32mreturn\u001b[0m \u001b[0;36m0\u001b[0m\u001b[0;34m\u001b[0m\u001b[0m\n\u001b[1;32m      8\u001b[0m     \u001b[0mmax_val\u001b[0m\u001b[0;34m=\u001b[0m\u001b[0;36m0\u001b[0m\u001b[0;34m\u001b[0m\u001b[0m\n\u001b[0;32m----> 9\u001b[0;31m     \u001b[0;32mfor\u001b[0m \u001b[0mi\u001b[0m \u001b[0;32min\u001b[0m \u001b[0mrange\u001b[0m\u001b[0;34m(\u001b[0m\u001b[0;36m1\u001b[0m\u001b[0;34m,\u001b[0m\u001b[0mn\u001b[0m\u001b[0;34m+\u001b[0m\u001b[0;36m1\u001b[0m\u001b[0;34m)\u001b[0m\u001b[0;34m:\u001b[0m\u001b[0;34m\u001b[0m\u001b[0m\n\u001b[0m\u001b[1;32m     10\u001b[0m         \u001b[0mvalue\u001b[0m\u001b[0;34m=\u001b[0m\u001b[0mmax\u001b[0m\u001b[0;34m(\u001b[0m\u001b[0mcost\u001b[0m\u001b[0;34m[\u001b[0m\u001b[0mi\u001b[0m\u001b[0;34m-\u001b[0m\u001b[0;36m1\u001b[0m\u001b[0;34m]\u001b[0m\u001b[0;34m+\u001b[0m\u001b[0mcost\u001b[0m\u001b[0;34m[\u001b[0m\u001b[0mn\u001b[0m\u001b[0;34m-\u001b[0m\u001b[0mi\u001b[0m\u001b[0;34m-\u001b[0m\u001b[0;36m1\u001b[0m\u001b[0;34m]\u001b[0m\u001b[0;34m,\u001b[0m\u001b[0mcost\u001b[0m\u001b[0;34m[\u001b[0m\u001b[0mi\u001b[0m\u001b[0;34m-\u001b[0m\u001b[0;36m1\u001b[0m\u001b[0;34m]\u001b[0m\u001b[0;34m+\u001b[0m\u001b[0mrope_max_cost\u001b[0m\u001b[0;34m(\u001b[0m\u001b[0;34m[\u001b[0m\u001b[0mn\u001b[0m\u001b[0;34m-\u001b[0m\u001b[0mi\u001b[0m\u001b[0;34m-\u001b[0m\u001b[0;36m1\u001b[0m\u001b[0;34m]\u001b[0m\u001b[0;34m,\u001b[0m\u001b[0mcost\u001b[0m\u001b[0;34m)\u001b[0m\u001b[0;34m)\u001b[0m\u001b[0;34m\u001b[0m\u001b[0m\n\u001b[1;32m     11\u001b[0m         \u001b[0mmax_val\u001b[0m\u001b[0;34m=\u001b[0m\u001b[0mmax\u001b[0m\u001b[0;34m(\u001b[0m\u001b[0mvalue\u001b[0m\u001b[0;34m,\u001b[0m\u001b[0mmax_val\u001b[0m\u001b[0;34m)\u001b[0m\u001b[0;34m\u001b[0m\u001b[0m\n",
      "\u001b[0;31mTypeError\u001b[0m: can only concatenate list (not \"int\") to list"
     ]
    }
   ],
   "source": [
    "#maximize prize of rod cut\n",
    "cost=[1,5,8,9,10,17,17,20]\n",
    "def rope_max_cost(n,cost):\n",
    "#     if len(cost)!=n:\n",
    "#         return 0\n",
    "    if n==0:\n",
    "        return 0\n",
    "    max_val=0\n",
    "    for i in range(1,n+1):\n",
    "        value=max(cost[i-1]+cost[n-i-1],cost[i-1]+rope_max_cost([n-i-1],cost))\n",
    "        max_val=max(value,max_val)\n",
    "        print(max_val,i)\n",
    "    return max_val\n",
    "rope_max_cost(8,cost)"
   ]
  },
  {
   "cell_type": "code",
   "execution_count": 124,
   "metadata": {},
   "outputs": [
    {
     "data": {
      "text/plain": [
       "-9223372036854775808"
      ]
     },
     "execution_count": 124,
     "metadata": {},
     "output_type": "execute_result"
    }
   ],
   "source": [
    "import sys\n",
    "-sys.maxsize-1"
   ]
  },
  {
   "cell_type": "code",
   "execution_count": 1,
   "metadata": {},
   "outputs": [
    {
     "data": {
      "text/plain": [
       "12"
      ]
     },
     "execution_count": 1,
     "metadata": {},
     "output_type": "execute_result"
    }
   ],
   "source": [
    "9^5"
   ]
  },
  {
   "cell_type": "code",
   "execution_count": 3,
   "metadata": {},
   "outputs": [
    {
     "name": "stdout",
     "output_type": "stream",
     "text": [
      "[3, 5, 9]\n"
     ]
    },
    {
     "data": {
      "text/plain": [
       "6"
      ]
     },
     "execution_count": 3,
     "metadata": {},
     "output_type": "execute_result"
    }
   ],
   "source": [
    "arr=[9,3,5]\n",
    "def min_xor(arr):\n",
    "    arr.sort()\n",
    "    value=100\n",
    "    print(arr)\n",
    "    for i in range(len(arr)-1):\n",
    "        value=min(value,arr[i]^arr[i+1])\n",
    "    return value\n",
    "min_xor(arr)"
   ]
  },
  {
   "cell_type": "code",
   "execution_count": 30,
   "metadata": {},
   "outputs": [
    {
     "data": {
      "text/plain": [
       "array([[1., 0., 0., 0., 0., 0., 0., 0.],\n",
       "       [1., 0., 0., 0., 0., 0., 0., 0.],\n",
       "       [1., 0., 0., 0., 0., 0., 0., 0.],\n",
       "       [1., 0., 0., 0., 0., 0., 0., 0.],\n",
       "       [1., 0., 0., 0., 0., 0., 0., 0.],\n",
       "       [1., 0., 0., 0., 0., 0., 0., 0.],\n",
       "       [1., 0., 0., 0., 0., 0., 0., 0.],\n",
       "       [1., 0., 0., 0., 0., 0., 0., 0.]])"
      ]
     },
     "execution_count": 30,
     "metadata": {},
     "output_type": "execute_result"
    }
   ],
   "source": [
    "solve"
   ]
  },
  {
   "cell_type": "code",
   "execution_count": 33,
   "metadata": {},
   "outputs": [
    {
     "name": "stdout",
     "output_type": "stream",
     "text": [
      "[[1 0 0 0]\n",
      " [1 1 0 1]\n",
      " [0 1 0 0]\n",
      " [1 1 1 9]]\n",
      "True\n",
      "[[1. 0. 0. 0.]\n",
      " [1. 1. 0. 0.]\n",
      " [0. 1. 0. 0.]\n",
      " [0. 1. 1. 1.]]\n"
     ]
    }
   ],
   "source": [
    "#maze=[[0,0,0],[9,1,1],[0,1,0]]\n",
    "maze=[[1,0,0,0],[1,1,0,1],[0,1,0,0],[1,1,1,9]]\n",
    "print(np.array(maze))\n",
    "n=len(maze)\n",
    "solve=np.zeros([n,n])\n",
    "def issafe(maze,x,y,n):\n",
    "    if x>=0 and x<n and y>=0 and y<n and maze[x][y]==1:\n",
    "        return True\n",
    "    else:\n",
    "        return False\n",
    "def rat_maze(maze,x,y,n,solve):\n",
    "#     if(maze[x][y]!=1):\n",
    "#         return False\n",
    "    if x<n and y<n and maze[x][y]==9:\n",
    "        solve[x][y]=1\n",
    "        return True\n",
    "    if issafe(maze,x,y,n):\n",
    "        solve[x][y]=1\n",
    "        if rat_maze(maze,x+1,y,n,solve):\n",
    "            return True\n",
    "        if rat_maze(maze,x,y+1,n,solve):\n",
    "            return True\n",
    "        solve[x][y]=0\n",
    "        return False\n",
    "print(rat_maze(maze,0,0,n,solve))\n",
    "print(solve)"
   ]
  },
  {
   "cell_type": "code",
   "execution_count": 1,
   "metadata": {},
   "outputs": [
    {
     "ename": "NameError",
     "evalue": "name 'np' is not defined",
     "output_type": "error",
     "traceback": [
      "\u001b[0;31m---------------------------------------------------------------------------\u001b[0m",
      "\u001b[0;31mNameError\u001b[0m                                 Traceback (most recent call last)",
      "\u001b[0;32m<ipython-input-1-80b05a5c9a7b>\u001b[0m in \u001b[0;36m<module>\u001b[0;34m\u001b[0m\n\u001b[1;32m      1\u001b[0m \u001b[0;31m#count no of paths to maze\u001b[0m\u001b[0;34m\u001b[0m\u001b[0;34m\u001b[0m\u001b[0m\n\u001b[1;32m      2\u001b[0m \u001b[0mmaze\u001b[0m\u001b[0;34m=\u001b[0m\u001b[0;34m[\u001b[0m\u001b[0;34m[\u001b[0m\u001b[0;36m0\u001b[0m\u001b[0;34m,\u001b[0m\u001b[0;36m0\u001b[0m\u001b[0;34m,\u001b[0m\u001b[0;36m0\u001b[0m\u001b[0;34m,\u001b[0m\u001b[0;36m0\u001b[0m\u001b[0;34m]\u001b[0m\u001b[0;34m,\u001b[0m\u001b[0;34m[\u001b[0m\u001b[0;36m0\u001b[0m\u001b[0;34m,\u001b[0m\u001b[0;34m-\u001b[0m\u001b[0;36m1\u001b[0m\u001b[0;34m,\u001b[0m\u001b[0;36m0\u001b[0m\u001b[0;34m,\u001b[0m\u001b[0;36m1\u001b[0m\u001b[0;34m]\u001b[0m\u001b[0;34m,\u001b[0m\u001b[0;34m[\u001b[0m\u001b[0;36m0\u001b[0m\u001b[0;34m,\u001b[0m\u001b[0;36m1\u001b[0m\u001b[0;34m,\u001b[0m\u001b[0;36m0\u001b[0m\u001b[0;34m,\u001b[0m\u001b[0;36m0\u001b[0m\u001b[0;34m]\u001b[0m\u001b[0;34m,\u001b[0m\u001b[0;34m[\u001b[0m\u001b[0;36m1\u001b[0m\u001b[0;34m,\u001b[0m\u001b[0;36m1\u001b[0m\u001b[0;34m,\u001b[0m\u001b[0;36m1\u001b[0m\u001b[0;34m,\u001b[0m\u001b[0;36m9\u001b[0m\u001b[0;34m]\u001b[0m\u001b[0;34m]\u001b[0m\u001b[0;34m\u001b[0m\u001b[0m\n\u001b[0;32m----> 3\u001b[0;31m \u001b[0mprint\u001b[0m\u001b[0;34m(\u001b[0m\u001b[0mnp\u001b[0m\u001b[0;34m.\u001b[0m\u001b[0marray\u001b[0m\u001b[0;34m(\u001b[0m\u001b[0mmaze\u001b[0m\u001b[0;34m)\u001b[0m\u001b[0;34m)\u001b[0m\u001b[0;34m\u001b[0m\u001b[0m\n\u001b[0m\u001b[1;32m      4\u001b[0m \u001b[0mn\u001b[0m\u001b[0;34m=\u001b[0m\u001b[0mlen\u001b[0m\u001b[0;34m(\u001b[0m\u001b[0mmaze\u001b[0m\u001b[0;34m)\u001b[0m\u001b[0;34m\u001b[0m\u001b[0m\n\u001b[1;32m      5\u001b[0m \u001b[0msolve\u001b[0m\u001b[0;34m=\u001b[0m\u001b[0mnp\u001b[0m\u001b[0;34m.\u001b[0m\u001b[0mzeros\u001b[0m\u001b[0;34m(\u001b[0m\u001b[0;34m[\u001b[0m\u001b[0mn\u001b[0m\u001b[0;34m,\u001b[0m\u001b[0mn\u001b[0m\u001b[0;34m]\u001b[0m\u001b[0;34m)\u001b[0m\u001b[0;34m\u001b[0m\u001b[0m\n",
      "\u001b[0;31mNameError\u001b[0m: name 'np' is not defined"
     ]
    }
   ],
   "source": [
    "#count no of paths to maze\n",
    "maze=[[0,0,0,0],[0,-1,0,1],[0,1,0,0],[1,1,1,9]]\n",
    "print(np.array(maze))\n",
    "n=len(maze)\n",
    "solve=np.zeros([n,n])\n",
    "def issafe(maze,x,y,n):\n",
    "    if x>=0 and x<n and y>=0 and y<n and maze[x][y]==1:\n",
    "        return True\n",
    "    else:\n",
    "        return False\n",
    "def rat_maze(maze,x,y,n,solve):\n",
    "#     if(maze[x][y]!=1):\n",
    "#         return False\n",
    "    if x<n and y<n and maze[x][y]==9:\n",
    "        solve[x][y]=1\n",
    "        return True\n",
    "    if issafe(maze,x,y,n):\n",
    "        solve[x][y]=1\n",
    "        if rat_maze(maze,x+1,y,n,solve):\n",
    "            return True\n",
    "        if rat_maze(maze,x,y+1,n,solve):\n",
    "            return True\n",
    "        solve[x][y]=0\n",
    "        return False\n",
    "print(rat_maze(maze,0,0,n,solve))\n",
    "print(solve)"
   ]
  },
  {
   "cell_type": "code",
   "execution_count": 40,
   "metadata": {},
   "outputs": [],
   "source": [
    "txt = \"ABABDABACDABABCABAB\"\n",
    "pat = \"ABABCABAB\"\n",
    "m=len(pat)\n",
    "lps=[0]*m\n",
    "lps[0]=0\n",
    "for i in range(1,m):\n",
    "    if pat[i]==:\n",
    "        \n",
    "    "
   ]
  },
  {
   "cell_type": "code",
   "execution_count": 39,
   "metadata": {},
   "outputs": [
    {
     "data": {
      "text/plain": [
       "[0, 0, 0, 0, 0, 0, 0, 0, 0]"
      ]
     },
     "execution_count": 39,
     "metadata": {},
     "output_type": "execute_result"
    }
   ],
   "source": [
    "lps"
   ]
  },
  {
   "cell_type": "code",
   "execution_count": 41,
   "metadata": {},
   "outputs": [
    {
     "data": {
      "text/plain": [
       "'ABABCABAB'"
      ]
     },
     "execution_count": 41,
     "metadata": {},
     "output_type": "execute_result"
    }
   ],
   "source": [
    "pat"
   ]
  },
  {
   "cell_type": "code",
   "execution_count": 42,
   "metadata": {},
   "outputs": [
    {
     "ename": "AttributeError",
     "evalue": "'str' object has no attribute 'remove'",
     "output_type": "error",
     "traceback": [
      "\u001b[0;31m---------------------------------------------------------------------------\u001b[0m",
      "\u001b[0;31mAttributeError\u001b[0m                            Traceback (most recent call last)",
      "\u001b[0;32m<ipython-input-42-b3d4ad1b6dfe>\u001b[0m in \u001b[0;36m<module>\u001b[0;34m\u001b[0m\n\u001b[0;32m----> 1\u001b[0;31m \u001b[0mpat\u001b[0m\u001b[0;34m.\u001b[0m\u001b[0mremove\u001b[0m\u001b[0;34m[\u001b[0m\u001b[0;36m0\u001b[0m\u001b[0;34m]\u001b[0m\u001b[0;34m\u001b[0m\u001b[0m\n\u001b[0m",
      "\u001b[0;31mAttributeError\u001b[0m: 'str' object has no attribute 'remove'"
     ]
    }
   ],
   "source": [
    "pat.remove[0]"
   ]
  },
  {
   "cell_type": "code",
   "execution_count": 45,
   "metadata": {},
   "outputs": [
    {
     "data": {
      "text/plain": [
       "[['a portal'], ['for geeks'], ['gfg is']]"
      ]
     },
     "execution_count": 45,
     "metadata": {},
     "output_type": "execute_result"
    }
   ],
   "source": [
    "lst = [['gfg is'], ['a portal'], ['for geeks']] \n",
    "lst.sort()\n",
    "lst"
   ]
  },
  {
   "cell_type": "code",
   "execution_count": 46,
   "metadata": {},
   "outputs": [
    {
     "data": {
      "text/plain": [
       "[['a8', 'act', 'zoo'], ['ab1', 'off', 'key', 'dog'], ['g1', 'act', 'car']]"
      ]
     },
     "execution_count": 46,
     "metadata": {},
     "output_type": "execute_result"
    }
   ],
   "source": [
    "lst=[[u'g1', u'act', u'car'], [u'ab1', u'off', u'key', u'dog'], [u'a8', u'act', u'zoo']]\n",
    "lst.sort()\n",
    "lst"
   ]
  },
  {
   "cell_type": "code",
   "execution_count": 48,
   "metadata": {},
   "outputs": [
    {
     "name": "stdout",
     "output_type": "stream",
     "text": [
      "w\n",
      "e\n",
      "l\n",
      "c\n",
      "o\n",
      "m\n",
      "e\n",
      "?\n",
      "?\n",
      "?\n",
      "@\n",
      "@\n",
      "#\n",
      "#\n",
      "$\n",
      " \n",
      "t\n",
      "o\n",
      "#\n",
      "$\n",
      "%\n",
      " \n",
      "g\n",
      "e\n",
      "e\n",
      "k\n",
      "s\n",
      "%\n",
      "$\n",
      "^\n",
      "f\n",
      "o\n",
      "r\n",
      "$\n",
      "%\n",
      "^\n",
      "&\n",
      "g\n",
      "e\n",
      "e\n",
      "k\n",
      "s\n",
      "Welcome to GeeksforGeeks\n"
     ]
    }
   ],
   "source": [
    "def Punctuation(string): \n",
    "  \n",
    "    # punctuation marks \n",
    "    punctuations = '''!()-[]{};:'\"\\,<>./?@#$%^&*_~'''\n",
    "  \n",
    "    # traverse the given string and if any punctuation \n",
    "    # marks occur replace it with null \n",
    "    for x in string.lower(): \n",
    "        print(x)\n",
    "        if x in punctuations: \n",
    "            string = string.replace(x, \"\") \n",
    "  \n",
    "    # Print string without punctuation \n",
    "    print(string) \n",
    "  \n",
    "# Driver program \n",
    "string = \"Welcome???@@##$ to#$% Geeks%$^for$%^&Geeks\"\n",
    "Punctuation(string)\n"
   ]
  },
  {
   "cell_type": "code",
   "execution_count": 61,
   "metadata": {},
   "outputs": [
    {
     "data": {
      "text/plain": [
       "0"
      ]
     },
     "execution_count": 61,
     "metadata": {},
     "output_type": "execute_result"
    }
   ],
   "source": [
    "int(not(0^1))"
   ]
  },
  {
   "cell_type": "code",
   "execution_count": 64,
   "metadata": {},
   "outputs": [
    {
     "data": {
      "text/plain": [
       "0"
      ]
     },
     "execution_count": 64,
     "metadata": {},
     "output_type": "execute_result"
    }
   ],
   "source": [
    "int(not(1^0))"
   ]
  },
  {
   "cell_type": "code",
   "execution_count": 65,
   "metadata": {},
   "outputs": [],
   "source": [
    "cells=[0,1,0,1,1,0,0,1]"
   ]
  },
  {
   "cell_type": "code",
   "execution_count": 74,
   "metadata": {},
   "outputs": [
    {
     "data": {
      "text/plain": [
       "[0, 1, 0, 1, 1, 0, 0, 1]"
      ]
     },
     "execution_count": 74,
     "metadata": {},
     "output_type": "execute_result"
    }
   ],
   "source": [
    "cells"
   ]
  },
  {
   "cell_type": "code",
   "execution_count": 73,
   "metadata": {},
   "outputs": [
    {
     "data": {
      "text/plain": [
       "[0, 1, 0, 1, 1, 0, 0, 1]"
      ]
     },
     "execution_count": 73,
     "metadata": {},
     "output_type": "execute_result"
    }
   ],
   "source": [
    "new"
   ]
  },
  {
   "cell_type": "code",
   "execution_count": 72,
   "metadata": {},
   "outputs": [],
   "source": [
    "cells=[0,1,0,1,1,0,0,1]\n",
    "new=list(cells)"
   ]
  },
  {
   "cell_type": "code",
   "execution_count": 75,
   "metadata": {},
   "outputs": [
    {
     "name": "stdout",
     "output_type": "stream",
     "text": [
      "[0, 1, 0, 1, 1, 0, 0, 1] [0, 1, 0, 1, 1, 0, 0, 1]\n",
      "1 0 0\n",
      "[0, 1, 0, 1, 1, 0, 0, 1] [0, 1, 0, 1, 1, 0, 0, 1]\n",
      "2 1 1\n",
      "[0, 1, 0, 1, 1, 0, 0, 1] [0, 1, 0, 1, 1, 0, 0, 1]\n",
      "3 0 1\n",
      "[0, 1, 1, 1, 1, 0, 0, 1] [0, 1, 0, 1, 1, 0, 0, 1]\n",
      "4 1 0\n",
      "[0, 1, 1, 0, 1, 0, 0, 1] [0, 1, 0, 1, 1, 0, 0, 1]\n",
      "5 1 0\n",
      "[0, 1, 1, 0, 0, 0, 0, 1] [0, 1, 0, 1, 1, 0, 0, 1]\n",
      "6 0 1\n",
      "[0, 1, 1, 0, 0, 0, 0, 1] [0, 1, 0, 1, 1, 0, 0, 1]\n",
      "[0, 1, 1, 0, 0, 0, 0, 1] [0, 1, 0, 1, 1, 0, 0, 1]\n",
      "[0, 1, 1, 0, 0, 0, 0, 1]\n"
     ]
    }
   ],
   "source": [
    "for j in range(len(cells)):\n",
    "    if j==0:\n",
    "        new[j]=int(not(cells[j+1]^0))\n",
    "        print(new,cells)\n",
    "    elif j==len(cells)-1:\n",
    "        new[j]=int(not(cells[j-1]^0))\n",
    "        print(new,cells)\n",
    "    else:\n",
    "        print(j,cells[j-1],cells[j+1])\n",
    "        print(new,cells)\n",
    "        new[j]=int(not(cells[j-1]^cells[j+1]))\n",
    "print(new)\n",
    "\n"
   ]
  },
  {
   "cell_type": "code",
   "execution_count": 82,
   "metadata": {},
   "outputs": [
    {
     "name": "stdout",
     "output_type": "stream",
     "text": [
      "{0: 10, 1: 8}\n"
     ]
    }
   ],
   "source": [
    "points=[[1,3],[-2,2]]\n",
    "dist={}\n",
    "for i in range(len(points)):\n",
    "    dist[i]=points[i][0]**2+points[i][1]**2\n",
    "print(dist)"
   ]
  },
  {
   "cell_type": "code",
   "execution_count": 83,
   "metadata": {},
   "outputs": [
    {
     "name": "stdout",
     "output_type": "stream",
     "text": [
      "0\n",
      "1\n"
     ]
    }
   ],
   "source": [
    "for i in sorted(dist.keys()):\n",
    "    print(i)"
   ]
  },
  {
   "cell_type": "code",
   "execution_count": 84,
   "metadata": {},
   "outputs": [
    {
     "name": "stdout",
     "output_type": "stream",
     "text": [
      "(1, 8)\n",
      "(0, 10)\n"
     ]
    }
   ],
   "source": [
    "for i in sorted(dist.items(),key=lambda kv:(kv[i],kv[0])):\n",
    "    print(i)\n",
    "    "
   ]
  },
  {
   "cell_type": "code",
   "execution_count": 100,
   "metadata": {},
   "outputs": [
    {
     "name": "stdout",
     "output_type": "stream",
     "text": [
      "[[1, 3], [-2, 2], [1, 2], [0, 3], [1, 0]]\n",
      "[[1, 0], [1, 2], [-2, 2]]\n"
     ]
    }
   ],
   "source": [
    "print(points)\n",
    "points.sort(key =lambda P:P[0]**2+P[1]**2)\n",
    "print(points[:3])"
   ]
  },
  {
   "cell_type": "code",
   "execution_count": 108,
   "metadata": {},
   "outputs": [
    {
     "data": {
      "text/plain": [
       "[[1, 0], [-2, 2], [1, 2], [1, 3], [0, 3]]"
      ]
     },
     "execution_count": 108,
     "metadata": {},
     "output_type": "execute_result"
    }
   ],
   "source": [
    "points=[[1,3],[-2,2],[1,2],[0,3],[1,0]]\n",
    "points.sort(key=lambda P:P[1])\n",
    "points"
   ]
  },
  {
   "cell_type": "code",
   "execution_count": 101,
   "metadata": {},
   "outputs": [
    {
     "data": {
      "text/plain": [
       "24"
      ]
     },
     "execution_count": 101,
     "metadata": {},
     "output_type": "execute_result"
    }
   ],
   "source": [
    "60%36"
   ]
  },
  {
   "cell_type": "code",
   "execution_count": 102,
   "metadata": {},
   "outputs": [
    {
     "data": {
      "text/plain": [
       "12"
      ]
     },
     "execution_count": 102,
     "metadata": {},
     "output_type": "execute_result"
    }
   ],
   "source": [
    "36%24"
   ]
  },
  {
   "cell_type": "code",
   "execution_count": 29,
   "metadata": {},
   "outputs": [
    {
     "name": "stdout",
     "output_type": "stream",
     "text": [
      "{'32', '322', '12', '12322', '2', '1', '23', '3', '1232', '2322', '22', None, '232', '123'}\n"
     ]
    },
    {
     "ename": "NameError",
     "evalue": "name 'count' is not defined",
     "output_type": "error",
     "traceback": [
      "\u001b[0;31m---------------------------------------------------------------------------\u001b[0m",
      "\u001b[0;31mNameError\u001b[0m                                 Traceback (most recent call last)",
      "\u001b[0;32m<ipython-input-29-74875d4d6430>\u001b[0m in \u001b[0;36m<module>\u001b[0;34m\u001b[0m\n\u001b[1;32m     12\u001b[0m \u001b[0msubsequent\u001b[0m\u001b[0;34m(\u001b[0m\u001b[0;34m\"12322\"\u001b[0m\u001b[0;34m)\u001b[0m\u001b[0;34m\u001b[0m\u001b[0m\n\u001b[1;32m     13\u001b[0m \u001b[0mprint\u001b[0m\u001b[0;34m(\u001b[0m\u001b[0msubsequent_strings\u001b[0m\u001b[0;34m)\u001b[0m\u001b[0;34m\u001b[0m\u001b[0m\n\u001b[0;32m---> 14\u001b[0;31m \u001b[0mprint\u001b[0m\u001b[0;34m(\u001b[0m\u001b[0mcount\u001b[0m\u001b[0;34m(\u001b[0m\u001b[0msubsequent_strings\u001b[0m\u001b[0;34m)\u001b[0m\u001b[0;34m)\u001b[0m\u001b[0;34m\u001b[0m\u001b[0m\n\u001b[0m\u001b[1;32m     15\u001b[0m \u001b[0;34m\u001b[0m\u001b[0m\n",
      "\u001b[0;31mNameError\u001b[0m: name 'count' is not defined"
     ]
    }
   ],
   "source": [
    "subsequent_strings=set()\n",
    "def subsequent(s):\n",
    "    if len(s)==1:\n",
    "        return s\n",
    "    else:\n",
    "        for i in range(1,len(s)):\n",
    "            subsequent_strings.add(s)\n",
    "            s1=subsequent(s[:-i])\n",
    "            s2=subsequent(s[i:])\n",
    "            subsequent_strings.add(s1)\n",
    "            subsequent_strings.add(s2)\n",
    "subsequent(\"12322\")\n",
    "print(subsequent_strings)\n",
    "print(count(subsequent_strings))\n",
    "\n"
   ]
  },
  {
   "cell_type": "code",
   "execution_count": 40,
   "metadata": {},
   "outputs": [
    {
     "name": "stdout",
     "output_type": "stream",
     "text": [
      "{'32', '322', '12', '12322', '2', '1', '23', '3', '1232', '2322', '22', '232', '123'}\n"
     ]
    },
    {
     "ename": "NameError",
     "evalue": "name 'unique' is not defined",
     "output_type": "error",
     "traceback": [
      "\u001b[0;31m---------------------------------------------------------------------------\u001b[0m",
      "\u001b[0;31mNameError\u001b[0m                                 Traceback (most recent call last)",
      "\u001b[0;32m<ipython-input-40-2e40cadb2509>\u001b[0m in \u001b[0;36m<module>\u001b[0;34m\u001b[0m\n\u001b[1;32m      2\u001b[0m \u001b[0;31m# subsequent_strings.remove(None)\u001b[0m\u001b[0;34m\u001b[0m\u001b[0;34m\u001b[0m\u001b[0m\n\u001b[1;32m      3\u001b[0m \u001b[0;32mfor\u001b[0m \u001b[0mi\u001b[0m \u001b[0;32min\u001b[0m \u001b[0msubsequent_strings\u001b[0m\u001b[0;34m:\u001b[0m\u001b[0;34m\u001b[0m\u001b[0m\n\u001b[0;32m----> 4\u001b[0;31m     \u001b[0mprint\u001b[0m\u001b[0;34m(\u001b[0m\u001b[0munique\u001b[0m\u001b[0;34m(\u001b[0m\u001b[0mi\u001b[0m\u001b[0;34m)\u001b[0m\u001b[0;34m)\u001b[0m\u001b[0;34m\u001b[0m\u001b[0m\n\u001b[0m\u001b[1;32m      5\u001b[0m \u001b[0;31m# print(sorted(subsequent_strings,key=unique(k)))\u001b[0m\u001b[0;34m\u001b[0m\u001b[0;34m\u001b[0m\u001b[0m\n\u001b[1;32m      6\u001b[0m \u001b[0;31m# print(len(subsequent_strings))\u001b[0m\u001b[0;34m\u001b[0m\u001b[0;34m\u001b[0m\u001b[0m\n",
      "\u001b[0;31mNameError\u001b[0m: name 'unique' is not defined"
     ]
    }
   ],
   "source": [
    "print(subsequent_strings)\n",
    "# subsequent_strings.remove(None)\n",
    "for i in subsequent_strings:\n",
    "    print(unique(i))\n",
    "# print(sorted(subsequent_strings,key=unique(k)))\n",
    "# print(len(subsequent_strings))"
   ]
  },
  {
   "cell_type": "code",
   "execution_count": 41,
   "metadata": {},
   "outputs": [
    {
     "ename": "NameError",
     "evalue": "name 'unique' is not defined",
     "output_type": "error",
     "traceback": [
      "\u001b[0;31m---------------------------------------------------------------------------\u001b[0m",
      "\u001b[0;31mNameError\u001b[0m                                 Traceback (most recent call last)",
      "\u001b[0;32m<ipython-input-41-5f230a3e4a3d>\u001b[0m in \u001b[0;36m<module>\u001b[0;34m\u001b[0m\n\u001b[0;32m----> 1\u001b[0;31m \u001b[0munique\u001b[0m\u001b[0;34m(\u001b[0m\u001b[0;36m1231\u001b[0m\u001b[0;34m)\u001b[0m\u001b[0;34m\u001b[0m\u001b[0m\n\u001b[0m",
      "\u001b[0;31mNameError\u001b[0m: name 'unique' is not defined"
     ]
    }
   ],
   "source": [
    "unique(1231)"
   ]
  },
  {
   "cell_type": "code",
   "execution_count": 26,
   "metadata": {},
   "outputs": [
    {
     "name": "stdout",
     "output_type": "stream",
     "text": [
      "ABC\n",
      "ACB\n",
      "BAC\n",
      "BCA\n",
      "CBA\n",
      "CAB\n"
     ]
    }
   ],
   "source": [
    "from itertools import permutations\n",
    "def allpermutations(a):\n",
    "    permlist=permutations(a)\n",
    "    perms=set()\n",
    "    for perm in list(permlist):\n",
    "        s1=''.join(perm)\n",
    "#         print(s1)\n",
    "        perms.add(s1)\n",
    "    print(perms)\n",
    "def permute(a,l,r):\n",
    "    if l==r:\n",
    "        print(''.join(a))\n",
    "    else:\n",
    "        for i in range(l,r+1):\n",
    "            a[l],a[i]=a[i],a[l]\n",
    "            permute(a,l+1,r)\n",
    "            a[l],a[i]=a[i],a[l]\n",
    "# allpermutations(\"AABC\")\n",
    "permute(list(\"ABC\"),0,len(\"ABC\")-1)"
   ]
  },
  {
   "cell_type": "code",
   "execution_count": 48,
   "metadata": {},
   "outputs": [
    {
     "data": {
      "text/plain": [
       "True"
      ]
     },
     "execution_count": 48,
     "metadata": {},
     "output_type": "execute_result"
    }
   ],
   "source": [
    "def palindrome(a):\n",
    "    n=len(a)\n",
    "    for i in range(0,int(n/2)):\n",
    "        if a[i]!=a[n-i-1]:\n",
    "            return False\n",
    "    return True\n",
    "palindrome(\"aba\")"
   ]
  },
  {
   "cell_type": "code",
   "execution_count": 13,
   "metadata": {},
   "outputs": [
    {
     "data": {
      "text/plain": [
       "'e'"
      ]
     },
     "execution_count": 13,
     "metadata": {},
     "output_type": "execute_result"
    }
   ],
   "source": [
    "str1=\"abcdeabcd\"\n",
    "res=0\n",
    "for i in str1:\n",
    "    res=res^ord(i)\n",
    "chr(res)"
   ]
  },
  {
   "cell_type": "code",
   "execution_count": 6,
   "metadata": {},
   "outputs": [
    {
     "data": {
      "text/plain": [
       "99"
      ]
     },
     "execution_count": 6,
     "metadata": {},
     "output_type": "execute_result"
    }
   ],
   "source": [
    "ord(\"c\")"
   ]
  },
  {
   "cell_type": "code",
   "execution_count": 7,
   "metadata": {},
   "outputs": [
    {
     "data": {
      "text/plain": [
       "0"
      ]
     },
     "execution_count": 7,
     "metadata": {},
     "output_type": "execute_result"
    }
   ],
   "source": [
    "ord('a')^ord('a')^ord('b')^ord('b')"
   ]
  },
  {
   "cell_type": "code",
   "execution_count": 17,
   "metadata": {},
   "outputs": [
    {
     "name": "stdout",
     "output_type": "stream",
     "text": [
      "0 7\n",
      "1 3\n",
      "2 1\n"
     ]
    },
    {
     "data": {
      "text/plain": [
       "3"
      ]
     },
     "execution_count": 17,
     "metadata": {},
     "output_type": "execute_result"
    }
   ],
   "source": [
    "def count_set_bits(n):\n",
    "    count=0\n",
    "    while(n):\n",
    "        print(count,n)\n",
    "        count+=(n&1)\n",
    "        n>>=1\n",
    "    return count\n",
    "count_set_bits(7)"
   ]
  },
  {
   "cell_type": "code",
   "execution_count": 54,
   "metadata": {
    "scrolled": true
   },
   "outputs": [
    {
     "name": "stdout",
     "output_type": "stream",
     "text": [
      "Mr%20Smith%20Ahuja\n"
     ]
    }
   ],
   "source": [
    "s=\"Mr   Smith Ahuja   \"\n",
    "words=s.split()\n",
    "s='%20'.join(words)\n",
    "print(s)\n",
    "# length=14\n",
    "# flag=0\n",
    "# for i in range(len(s)-1,-1,-1):\n",
    "#     print(s[i])\n",
    "#     if s[i]!=\" \":\n",
    "#         flag=0\n",
    "#     elif s[i]==\" \" and flag==0:\n",
    "#         flag=1\n",
    "#         s.replace(s[i],\"%20\")\n",
    "#     else:\n",
    "#         s.replace(s[i],\"\")\n",
    "# #     print(new_s)\n",
    "# print(s)\n",
    "        \n",
    "        "
   ]
  },
  {
   "cell_type": "code",
   "execution_count": 66,
   "metadata": {},
   "outputs": [
    {
     "name": "stdout",
     "output_type": "stream",
     "text": [
      "e\n",
      "l\n",
      "i\n",
      "a\n",
      "p\n",
      "no\n"
     ]
    }
   ],
   "source": [
    "s1=\"paile\"\n",
    "s2=\"aale\"\n",
    "j=len(s2)-1\n",
    "count=0\n",
    "for i in range(len(s1)-1,-1,-1):\n",
    "    print(s1[i])\n",
    "    if s1[i]!=s2[j]:\n",
    "        count+=1\n",
    "    else:\n",
    "        j-=1\n",
    "if count==1:\n",
    "    print(\"yes\")\n",
    "else:\n",
    "    print(\"no\")"
   ]
  },
  {
   "cell_type": "code",
   "execution_count": 72,
   "metadata": {},
   "outputs": [
    {
     "name": "stdout",
     "output_type": "stream",
     "text": [
      "a2b1c4d3a3\n"
     ]
    }
   ],
   "source": [
    "a=\"aabccccdddaaa\"\n",
    "count=1\n",
    "a1=\"\"\n",
    "char=a[0]\n",
    "for i in range(1,len(a)):\n",
    "    if char==a[i]:\n",
    "        count+=1\n",
    "    else:\n",
    "        a1=a1+char+str(count)\n",
    "        count=1\n",
    "        char=a[i]\n",
    "a1=a1+char+str(count)\n",
    "print(a1)\n",
    "    "
   ]
  },
  {
   "cell_type": "code",
   "execution_count": 1,
   "metadata": {},
   "outputs": [
    {
     "data": {
      "text/plain": [
       "3"
      ]
     },
     "execution_count": 1,
     "metadata": {},
     "output_type": "execute_result"
    }
   ],
   "source": [
    "10^9"
   ]
  },
  {
   "cell_type": "code",
   "execution_count": 2,
   "metadata": {},
   "outputs": [
    {
     "data": {
      "text/plain": [
       "1000000000"
      ]
     },
     "execution_count": 2,
     "metadata": {},
     "output_type": "execute_result"
    }
   ],
   "source": [
    "10**9"
   ]
  },
  {
   "cell_type": "code",
   "execution_count": null,
   "metadata": {},
   "outputs": [],
   "source": []
  }
 ],
 "metadata": {
  "kernelspec": {
   "display_name": "Python 3",
   "language": "python",
   "name": "python3"
  },
  "language_info": {
   "codemirror_mode": {
    "name": "ipython",
    "version": 3
   },
   "file_extension": ".py",
   "mimetype": "text/x-python",
   "name": "python",
   "nbconvert_exporter": "python",
   "pygments_lexer": "ipython3",
   "version": "3.6.2"
  }
 },
 "nbformat": 4,
 "nbformat_minor": 2
}
